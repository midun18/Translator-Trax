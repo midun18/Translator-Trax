{
 "cells": [
  {
   "cell_type": "code",
   "execution_count": null,
   "id": "1607f008",
   "metadata": {},
   "outputs": [],
   "source": [
    "from termcolor import colored\n",
    "import random\n",
    "import numpy as np\n",
    "\n",
    "import trax\n",
    "from trax import layers as tl\n",
    "from trax.fastmath import numpy as fastnp\n",
    "from trax.supervised import training"
   ]
  },
  {
   "cell_type": "code",
   "execution_count": null,
   "id": "94d4af08",
   "metadata": {},
   "outputs": [],
   "source": [
    "# Generator function for the training set\n",
    "train_stream_fn = trax.data.TFDS('opus/medical',\n",
    "                                 data_dir = './data/',\n",
    "                                 keys = ('en', 'de'),\n",
    "                                 eval_holdout_size = 0.01, # 1% for eval\n",
    "                                 train = True)\n",
    "\n",
    "# Generator function for the eval set\n",
    "eval_stream_fn = trax.data.TFDS('opus/medical',\n",
    "                                data_dir = './data/',\n",
    "                                keys = ('en', 'de'),\n",
    "                                eval_holdout_size = 0.01, # 1% for eval\n",
    "                                train = False)"
   ]
  },
  {
   "cell_type": "code",
   "execution_count": null,
   "id": "09f5bb25",
   "metadata": {},
   "outputs": [],
   "source": [
    "train_stream = train_stream_fn()\n",
    "print(colored('train data (en, de) tuple:', 'red'), next(train_stream))\n",
    "print()\n",
    "\n",
    "eval_stream = eval_stream_fn()\n",
    "print(colored('eval data (en, de) tuple:', 'red'), next(eval_stream))"
   ]
  }
 ],
 "metadata": {
  "kernelspec": {
   "display_name": "Python 3",
   "language": "python",
   "name": "python3"
  },
  "language_info": {
   "codemirror_mode": {
    "name": "ipython",
    "version": 3
   },
   "file_extension": ".py",
   "mimetype": "text/x-python",
   "name": "python",
   "nbconvert_exporter": "python",
   "pygments_lexer": "ipython3",
   "version": "3.8.5"
  }
 },
 "nbformat": 4,
 "nbformat_minor": 5
}
